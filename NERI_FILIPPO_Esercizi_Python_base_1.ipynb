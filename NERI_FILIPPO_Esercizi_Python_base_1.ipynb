{
  "nbformat": 4,
  "nbformat_minor": 0,
  "metadata": {
    "colab": {
      "provenance": []
    },
    "kernelspec": {
      "name": "python3",
      "display_name": "Python 3"
    },
    "language_info": {
      "name": "python"
    }
  },
  "cells": [
    {
      "cell_type": "markdown",
      "source": [
        "Scrivere al di sotto di ogni esercizio il codice richiesto. Al termine, consegnare su classroom il notebook realizzato."
      ],
      "metadata": {
        "id": "u24Wx-pXrz4j"
      }
    },
    {
      "cell_type": "markdown",
      "source": [
        "0. assegnare alle variabili x, y e z i valori 10, 20 e 30 in un'unica istruzione. Assegnare alle variabili a, b e c il valore 100 sempre in un'unica istruzione"
      ],
      "metadata": {
        "id": "ym0EsAfkyxmz"
      }
    },
    {
      "cell_type": "code",
      "source": [
        "x = 10\n",
        "y = 20\n",
        "z = 30\n",
        "\n",
        "a = 100\n",
        "b = 100\n",
        "c = 100"
      ],
      "metadata": {
        "id": "K6G4zgcCzAAz"
      },
      "execution_count": null,
      "outputs": []
    },
    {
      "cell_type": "markdown",
      "source": [
        "1. far inserire all'utente due numeri interi, scambiarli e visualizzarli"
      ],
      "metadata": {
        "id": "_w3ESGmCr7SL"
      }
    },
    {
      "cell_type": "code",
      "source": [
        "inter1 = int(input(\"Inserisci un numero intero: \"))\n",
        "inter2 = int(input(\"Inserisci un'altro numero intero: \"))\n",
        "print(\"Numeri inseriti: \", inter1, inter2)\n",
        "\n",
        "inter1,inter2 = inter2, inter1\n",
        "\n",
        "print(\"Numeri invertiti: \", inter1,inter2)\n"
      ],
      "metadata": {
        "id": "z5zHMYWlseti",
        "colab": {
          "base_uri": "https://localhost:8080/"
        },
        "outputId": "00fe199a-6f97-4eef-8922-baf0d5ece821"
      },
      "execution_count": null,
      "outputs": [
        {
          "output_type": "stream",
          "name": "stdout",
          "text": [
            "Inserisci un numero intero: 10\n",
            "Inserisci un'altro numero intero: 20\n",
            "Numeri inseriti:  10 20\n",
            "Numeri invertiti:  20 10\n"
          ]
        }
      ]
    },
    {
      "cell_type": "markdown",
      "source": [
        "2. far inserire all'utente due numeri e calcolare l'elevamento a potenza del primo per il secondo. Provare poi a vedere qual'è la massima potenza del 2 che Python riece a calcolare: lo smartphone è altrettanto potente?"
      ],
      "metadata": {
        "id": "dkojX3qusGJi"
      }
    },
    {
      "cell_type": "code",
      "source": [
        "n1 = int(input(\"Inserisci un numero: \"))\n",
        "n2 = int(input(\"Inserisci un'altro numero: \"))\n",
        "\n",
        "n3 = n1 ** n2 \n",
        "print(\"Potenza del primo e il secondo: \", n3)"
      ],
      "metadata": {
        "id": "pYzftTyguOAc",
        "colab": {
          "base_uri": "https://localhost:8080/"
        },
        "outputId": "8c4a8f9c-bdd0-4723-e937-0f7050a24ec4"
      },
      "execution_count": null,
      "outputs": [
        {
          "output_type": "stream",
          "name": "stdout",
          "text": [
            "Inserisci un numero: 2\n",
            "Inserisci un'altro numero: 5000\n",
            "Potenza del primo e il secondo:  141246703213942603683520966701614733366889617518454111681368808585711816984270751255808912631671152637335603208431366082764203838069979338335971185726639923431051777851865399011877999645131707069373498212631323752553111215372844035950900535954860733418453405575566736801565587405464699640499050849699472357900905617571376618228216434213181520991556677126498651782204174061830939239176861341383294018240225838692725596147005144243281075275629495339093813198966735633606329691023842454125835888656873133981287240980008838073668221804264432910894030789020219440578198488267339768238872279902157420307247570510423845868872596735891805818727796435753018518086641356012851302546726823009250218328018251907340245449863183265637987862198511046362985461949587281119139907228004385942880953958816554567625296086916885774828934449941362416588675326940332561103664556982622206834474219811081872404929503481991376740379825998791411879802717583885498575115299471743469241117070230398103378615232793710290992656444842895511830355733152020804157920090041811951880456705515468349446182731742327685989277607620709525878318766488368348965015474997864119765441433356928012344111765735336393557879214937004347568208665958717764059293592887514292843557047089164876483116615691886203812997555690171892169733755224469032475078797830901321579940127337210694377283439922280274060798234786740434893458120198341101033812506720046609891160700284002100980452964039788704335302619337597862052192280371481132164147186514169090917191909376\n"
          ]
        }
      ]
    },
    {
      "cell_type": "markdown",
      "source": [
        "3. far inserire all'utente tre numeri e visualizzare il massimo dei tre"
      ],
      "metadata": {
        "id": "PYqK5w8yseCy"
      }
    },
    {
      "cell_type": "code",
      "source": [
        "m1 = int(input(\"Inserisci un numero: \"))\n",
        "m2 = int(input(\"Inserisci un secondo numero: \"))\n",
        "m3 = int(input(\"Inserisci un terzo numero: \"))\n",
        "max = 0\n",
        "\n",
        "if m1 > m2 and m1 > m3:\n",
        "  max = m1\n",
        "elif m2 > m1 and m2 > m3:\n",
        "  max = m2\n",
        "elif m3 > m2 and m3 > m1:\n",
        "  max = m3\n",
        "\n",
        "print(\"il maggiore è: \", max)"
      ],
      "metadata": {
        "id": "pJSumYgPsmAb",
        "colab": {
          "base_uri": "https://localhost:8080/"
        },
        "outputId": "cf0a83b1-e5a3-4617-8bae-990301f2ac7b"
      },
      "execution_count": null,
      "outputs": [
        {
          "output_type": "stream",
          "name": "stdout",
          "text": [
            "Inserisci un numero: 10\n",
            "Inserisci un secondo numero: 20\n",
            "Inserisci un terzo numero: 30\n",
            "il maggiore è:  30\n"
          ]
        }
      ]
    },
    {
      "cell_type": "markdown",
      "source": [
        "4. dati tre numeri, dire se con quei tre numeri possiamo costruire un triangolo"
      ],
      "metadata": {
        "id": "sJJHEnXXsmeL"
      }
    },
    {
      "cell_type": "code",
      "source": [
        "lato1 = int(input('Inserisci il lato 1: '))\n",
        "lato2 = int(input('Inserisci il lato 2: '))\n",
        "lato3 = int(input('Inserisci il lato 3: '))\n",
        "\n",
        "if lato1 < lato2 + lato3 and lato2 < lato1 + lato3 and lato3 < lato2 + lato1:\n",
        "  "
      ],
      "metadata": {
        "id": "u6iI2qeosvlS"
      },
      "execution_count": null,
      "outputs": []
    },
    {
      "cell_type": "markdown",
      "source": [
        "5. far inserire dall'utente le misure di due cateti di un triangolo rettangolo (valori reali) e calcolare l'area del rettangolo e l'ipotenusa"
      ],
      "metadata": {
        "id": "zeDmm2t9sxER"
      }
    },
    {
      "cell_type": "code",
      "source": [
        "import math\n",
        "cat1 = float(input(\"Inserire il cateto 1: \"))\n",
        "cat2 = float(input(\"Inserire il cateto 2: \"))\n",
        "\n",
        "area = cat1 * cat2 / 2\n",
        "ipot = math.sqrt((cat1**2) + (cat2**2))\n",
        "\n",
        "print(\"L'area del triangolo rettangolo è: \", area,\" cm^2\")\n",
        "print(\"L'ipotenusa del triangolo rettangolo è: \", ipot,\" cm\")"
      ],
      "metadata": {
        "id": "MJ2jzq4PtSti",
        "colab": {
          "base_uri": "https://localhost:8080/"
        },
        "outputId": "cab6f19e-49b3-4c1f-ea3b-08a6f192a714"
      },
      "execution_count": null,
      "outputs": [
        {
          "output_type": "stream",
          "name": "stdout",
          "text": [
            "Inserire il cateto 1: 3\n",
            "Inserire il cateto 2: 4\n",
            "L'area del triangolo rettangolo è:  6.0  cm^2\n",
            "L'ipotenusa del triangolo rettangolo è:  5.0  cm\n"
          ]
        }
      ]
    },
    {
      "cell_type": "markdown",
      "source": [
        "6. far inserire un numero intero dall'utente e dire se è pari o dispari"
      ],
      "metadata": {
        "id": "64dgOKMRtTDq"
      }
    },
    {
      "cell_type": "code",
      "source": [
        "npd = int(input(\"Inserisci un numero intero: \")) \n",
        "\n",
        "if npd % 2 == 0:\n",
        "  print(\"Pari\")\n",
        "else:\n",
        "  print(\"Dispari\")"
      ],
      "metadata": {
        "id": "W7fI6Ej8t8Z6",
        "colab": {
          "base_uri": "https://localhost:8080/"
        },
        "outputId": "50b3daf0-b727-48b2-9495-20480971ece7"
      },
      "execution_count": null,
      "outputs": [
        {
          "output_type": "stream",
          "name": "stdout",
          "text": [
            "Inserisci un numero intero: 10\n",
            "Pari\n"
          ]
        }
      ]
    },
    {
      "cell_type": "markdown",
      "source": [
        "7. far inserire all'utente il valore di una temperatura in gradi centigradi e convertirlo in gradi fahrenheit"
      ],
      "metadata": {
        "id": "V16n7CsCuUXC"
      }
    },
    {
      "cell_type": "code",
      "source": [
        "cent = float(input(\"Inserisci la temperatura in centigradi: \"))\n",
        "\n",
        "ctf = (cent*(9/5))+32\n",
        "\n",
        "print(\"I gradi in fahrenheit sono: \", ctf)"
      ],
      "metadata": {
        "id": "DUlV468iuhE7",
        "colab": {
          "base_uri": "https://localhost:8080/"
        },
        "outputId": "4fedf338-8290-4245-9047-cc1636e8d8b0"
      },
      "execution_count": null,
      "outputs": [
        {
          "output_type": "stream",
          "name": "stdout",
          "text": [
            "Inserisci la temperatura in centigradi: 50\n",
            "I gradi in fahrenheit sono:  122.0\n"
          ]
        }
      ]
    },
    {
      "cell_type": "markdown",
      "source": [
        "8. far inserire all'utente il valore di una temperatura in gradi centigradi e convertirlo in gradi fahrenheit"
      ],
      "metadata": {
        "id": "TRbh4pEwuher"
      }
    },
    {
      "cell_type": "code",
      "source": [
        "fahr = float(input(\"Inserisci la temperatura in fahrenheit: \"))\n",
        "\n",
        "ftc = (fahr-32) / (5/9)\n",
        "\n",
        "print(\"I fahreheit in gradi sono: \", ftc)"
      ],
      "metadata": {
        "id": "CNwCDAIFup-K",
        "colab": {
          "base_uri": "https://localhost:8080/"
        },
        "outputId": "f9f88d9b-32ea-4a4d-bef2-0da393b7adf6"
      },
      "execution_count": null,
      "outputs": [
        {
          "output_type": "stream",
          "name": "stdout",
          "text": [
            "Inserisci la temperatura in fahrenheit: 32\n",
            "I fahreheit in gradi sono:  0.0\n"
          ]
        }
      ]
    },
    {
      "cell_type": "markdown",
      "source": [
        "9. far inserire all'utente una velocità in Km/h e visualizzare la stessa velocità in metri al secondo"
      ],
      "metadata": {
        "id": "YRjS88gtuqeC"
      }
    },
    {
      "cell_type": "code",
      "source": [
        "kmh = float(input(\"Inserisci la velocità in kmh: \"))\n",
        "\n",
        "kmms = kmh / 3.6\n",
        "\n",
        "print(\"La velocità in metri al secondo è: \", kmms)"
      ],
      "metadata": {
        "id": "Wricx3yyx3tb",
        "colab": {
          "base_uri": "https://localhost:8080/"
        },
        "outputId": "00c093d6-5727-48c6-ca2f-16f611472930"
      },
      "execution_count": null,
      "outputs": [
        {
          "output_type": "stream",
          "name": "stdout",
          "text": [
            "Inserisci la velocità in kmh: 1\n",
            "La velocità in metri al secondo è:  0.2777777777777778\n"
          ]
        }
      ]
    },
    {
      "cell_type": "markdown",
      "source": [
        "10. far inserire all'utente il raggio di un cerchio e visualizzarne il diametro e l'area"
      ],
      "metadata": {
        "id": "ltgIq2OGx4I7"
      }
    },
    {
      "cell_type": "code",
      "source": [
        "ragc = float(input(\"Inserisci il raggio di un cerchio: \"))\n",
        "\n",
        "ragdim = ragc * 2\n",
        "ragarea = 3.14 * ragc**2\n",
        "\n",
        "print(\"Il diametro è: \", ragdim)\n",
        "print(\"L'area è: \", ragarea)"
      ],
      "metadata": {
        "id": "BpbAnnUOzjGD",
        "colab": {
          "base_uri": "https://localhost:8080/"
        },
        "outputId": "1b05829f-464f-4c55-9814-cc77a44a0700"
      },
      "execution_count": null,
      "outputs": [
        {
          "output_type": "stream",
          "name": "stdout",
          "text": [
            "Inserisci il raggio di un cerchio: 12\n",
            "Il diametro è:  24.0\n",
            "L'area è:  113.04\n"
          ]
        }
      ]
    },
    {
      "cell_type": "markdown",
      "source": [
        "11. far inserire all'utente il suo nome e poi il suo cognome e visualizzare il suo cognome e il suo nome separati da uno spazio"
      ],
      "metadata": {
        "id": "M18Obb-Gzjdq"
      }
    },
    {
      "cell_type": "code",
      "source": [
        "nc = str(input(\"Inserisci il tuo nome e cognome: \"))\n",
        "res = nc.split(\" \")\n",
        "\n",
        "print(\"Nome: \", res[0], \" Cognome: \", res[1])"
      ],
      "metadata": {
        "id": "w2C_ln0LzwPa",
        "colab": {
          "base_uri": "https://localhost:8080/"
        },
        "outputId": "4d4caa3f-9277-464f-f4c6-1fa14de1b873"
      },
      "execution_count": null,
      "outputs": [
        {
          "output_type": "stream",
          "name": "stdout",
          "text": [
            "Inserisci il tuo nome e cognome: Filippo Neri\n",
            "Nome:  Filippo  Cognome:  Neri\n"
          ]
        }
      ]
    },
    {
      "cell_type": "markdown",
      "source": [
        "12. far inserire all'utente un numero e visualizzare il suo valore assoluto"
      ],
      "metadata": {
        "id": "BS9gBYBUzwp7"
      }
    },
    {
      "cell_type": "code",
      "source": [
        "val = int(input(\"Inserisci un numero: \"))\n",
        "\n",
        "print(\"Il valore assoluto è: \", abs(val))"
      ],
      "metadata": {
        "id": "KOZrphgUz89a",
        "colab": {
          "base_uri": "https://localhost:8080/"
        },
        "outputId": "eaa5aa5b-3849-4207-d15c-8506417cf376"
      },
      "execution_count": null,
      "outputs": [
        {
          "output_type": "stream",
          "name": "stdout",
          "text": [
            "Inserisci un numero: -2\n",
            "Il valore assoluto è:  2\n"
          ]
        }
      ]
    },
    {
      "cell_type": "markdown",
      "source": [
        "13. far inserire all'utente un voto e controllare che sia compreso tra 1 e 10, estremi inclusi, Se è compreso visualizzare la stringa 'OK' altrimenti visualizzare la stringa 'KO'"
      ],
      "metadata": {
        "id": "j1tl_8INz9ZS"
      }
    },
    {
      "cell_type": "code",
      "source": [
        "voto = int(input(\"Inserisci un voto: \"))\n",
        "\n",
        "if voto >= 1 and voto <= 10:\n",
        "  print(\"OK\")\n",
        "else:\n",
        "  print('KO')"
      ],
      "metadata": {
        "id": "7Cgqx9K20ccr",
        "colab": {
          "base_uri": "https://localhost:8080/"
        },
        "outputId": "80127cae-d4cc-43b1-85eb-273127aab9d5"
      },
      "execution_count": null,
      "outputs": [
        {
          "output_type": "stream",
          "name": "stdout",
          "text": [
            "Inserisci un voto: 11\n",
            "KO\n"
          ]
        }
      ]
    },
    {
      "cell_type": "markdown",
      "source": [
        "14. far inserire all'utente due numeri e dire se uno è multiplo dell'altro. Ad esempio se l'utente inserisse i valori 60 e 15 il programma dovrebbe visualizzare la stringa '60 è un multiplo di 15'. Stessa cosa se l'utente inserisse prima il 15 e poi il 60., Se non sono multipli, visualizzare un messaggio appropriato"
      ],
      "metadata": {
        "id": "3PIY9PvH0c06"
      }
    },
    {
      "cell_type": "code",
      "source": [
        "x1 = int(input(\"Inserisci un numero: \"))\n",
        "x2 = int(input(\"Inserisci un secondo numero: \"))\n",
        "\n",
        "if x1 % x2 == 0 or x2 % x1 == 0:\n",
        "  print(x1, \" è multiplo di \", x2)\n",
        "else:\n",
        "  print(x1, \" non è multiplo di \", x2)"
      ],
      "metadata": {
        "id": "VS8xJJQZ1FfS",
        "colab": {
          "base_uri": "https://localhost:8080/"
        },
        "outputId": "708dc75a-4f89-49ae-811b-27a7a8917280"
      },
      "execution_count": null,
      "outputs": [
        {
          "output_type": "stream",
          "name": "stdout",
          "text": [
            "Inserisci un numero: 60\n",
            "Inserisci un secondo numero: 15\n",
            "60  è multiplo di  15\n"
          ]
        }
      ]
    },
    {
      "cell_type": "markdown",
      "source": [
        "15. far inserire all'utente la durata di un periodi di tempo in ore, minuti e secodni e convertirlo in secondi"
      ],
      "metadata": {
        "id": "444w9p761F7j"
      }
    },
    {
      "cell_type": "code",
      "source": [
        "ore1 = int(input(\"Inserisci una durata di periodo in ore: \"))\n",
        "min1 = int(input(\"Inserisci una durata di periodo in minuti: \"))\n",
        "sec1 = int(input(\"Inserisci una durata di periodo in secondi: \"))\n",
        "\n",
        "ore1 = ore1 * 3600\n",
        "min1 = min1 * 60\n",
        "sec1 = sec1+ore1+min1\n",
        "\n",
        "print(\"Il risultato di conversione a secondi è: \", sec1)"
      ],
      "metadata": {
        "id": "S0xfdzxW1ijl",
        "colab": {
          "base_uri": "https://localhost:8080/"
        },
        "outputId": "f8105b7b-871c-4297-faa3-282369ccd8f0"
      },
      "execution_count": null,
      "outputs": [
        {
          "output_type": "stream",
          "name": "stdout",
          "text": [
            "Inserisci una durata di periodo in ore: 2\n",
            "Inserisci una durata di periodo in minuti: 0\n",
            "Inserisci una durata di periodo in secondi: 0\n",
            "Il risultato di conversione a secondi è:  7200\n"
          ]
        }
      ]
    },
    {
      "cell_type": "markdown",
      "source": [
        "16. far inserire all'utente la durata di un periodo in secondi e convertirlo in ore, minuti e secondi"
      ],
      "metadata": {
        "id": "3KaGzt4U1jA7"
      }
    },
    {
      "cell_type": "code",
      "source": [
        "sec = int(input(\"Inserisci una durata di periodo in secondi: \"))    \n",
        "\n",
        "ore = sec // 3600\n",
        "sec = sec % 3600\n",
        "min = sec // 60\n",
        "sec = sec % 60\n",
        "\n",
        "print(\"I secondi convertiti sono:\",ore,\"h :\",min,\"m :\",sec,\"s\")\n",
        "\n"
      ],
      "metadata": {
        "id": "wAwF6xB-10YD",
        "colab": {
          "base_uri": "https://localhost:8080/"
        },
        "outputId": "a014fa57-624e-4d1b-9e75-2ca11e58678a"
      },
      "execution_count": null,
      "outputs": [
        {
          "output_type": "stream",
          "name": "stdout",
          "text": [
            "Inserisci una durata di periodo in secondi: 7200\n",
            "I secondi convertiti sono: 2 h : 0 m : 0 s\n"
          ]
        }
      ]
    }
  ]
}